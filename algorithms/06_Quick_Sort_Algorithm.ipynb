{
 "cells": [
  {
   "cell_type": "markdown",
   "source": [
    "![Quick Sort](img/quicksort.gif)"
   ],
   "metadata": {
    "collapsed": false,
    "pycharm": {
     "name": "#%% md\n"
    }
   }
  },
  {
   "cell_type": "markdown",
   "metadata": {
    "pycharm": {
     "is_executing": false,
     "name": "#%% md\n"
    }
   },
   "source": [
    "#### Merge Sort\n",
    " Not an in-place algorithm\n",
    " Worst case : O(n log n)\n",
    " Stable algorithm"
   ]
  },
  {
   "cell_type": "code",
   "execution_count": 9,
   "outputs": [],
   "source": [
    "def quick_sort(array):\n",
    "    pass"
   ],
   "metadata": {
    "collapsed": false,
    "pycharm": {
     "name": "#%%\n",
     "is_executing": false
    }
   }
  },
  {
   "cell_type": "code",
   "execution_count": 10,
   "outputs": [
    {
     "name": "stdout",
     "text": [
      "Before [100, 99, 98, 97, 96, 10, 9, 8, 7, 6, 5, 4, 3, 2, 1]\nAfter [1, 2, 3, 4, 5, 6, 7, 8, 9, 10, 96, 97, 98, 99, 100]\n"
     ],
     "output_type": "stream"
    }
   ],
   "source": [
    "intArray = [100,99,98,97,96,10,9,8,7,6,5,4,3,2,1]\n",
    "print(f'Before {intArray}')\n",
    "quick_sort(intArray)\n",
    "print(f'After {intArray}')"
   ],
   "metadata": {
    "collapsed": false,
    "pycharm": {
     "name": "#%%\n",
     "is_executing": false
    }
   }
  }
 ],
 "metadata": {
  "kernelspec": {
   "name": "pycharm-b6543aff",
   "language": "python",
   "display_name": "PyCharm (Python_DataStructure_Algorithm)"
  },
  "language_info": {
   "codemirror_mode": {
    "name": "ipython",
    "version": 3
   },
   "file_extension": ".py",
   "mimetype": "text/x-python",
   "name": "python",
   "nbconvert_exporter": "python",
   "pygments_lexer": "ipython3",
   "version": "3.8.5"
  },
  "pycharm": {
   "stem_cell": {
    "cell_type": "raw",
    "source": [],
    "metadata": {
     "collapsed": false
    }
   }
  }
 },
 "nbformat": 4,
 "nbformat_minor": 4
}