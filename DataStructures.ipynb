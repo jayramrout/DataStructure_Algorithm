{
 "cells": [
  {
   "cell_type": "markdown",
   "metadata": {},
   "source": [
    "\n",
    "![Bubble Sort](C:/software/bubble-short.png)"
   ]
  },
  {
   "cell_type": "code",
   "execution_count": null,
   "metadata": {},
   "outputs": [],
   "source": [
    "from IPython"
   ]
  },
  {
   "cell_type": "code",
   "execution_count": 34,
   "metadata": {
    "scrolled": true
   },
   "outputs": [
    {
     "name": "stdout",
     "output_type": "stream",
     "text": [
      "[-1, 10, 3, 2, 6, 4, 9, 2]\n",
      "[-1, 2, 2, 3, 4, 6, 9, 10]\n"
     ]
    }
   ],
   "source": [
    "# Bubble Sort Algorithm\n",
    "# Larger element shift to the end.\n",
    "\n",
    "def swap(array,index_i, index_j):\n",
    "    if(index_i == index_j):\n",
    "        return\n",
    "    temp = array[index_i]\n",
    "    array[index_i]= array[index_j]\n",
    "    array[index_j] = temp    \n",
    "    \n",
    "def bubble_sort(array):\n",
    "    last_unsorted_index = len(array)\n",
    "    for i in reversed(range(last_unsorted_index)):\n",
    "        for j in range(i):\n",
    "            if(array[j] > array[j+1]):\n",
    "                swap(array,j,j+1)\n",
    "\n",
    "def bubble_sort_2(array):\n",
    "    last_unsorted_index = len(array)\n",
    "    for i in reversed(range(last_unsorted_index)):\n",
    "        for j in range(i):\n",
    "            if(array[j] > array[j+1]):\n",
    "                array[j] , array[j+1] = array[j+1] , array[j]\n",
    "            \n",
    "ages = [-1,10,3,2,6,4,9,2]\n",
    "print(ages)\n",
    "bubble_sort_2(ages)\n",
    "print(ages)\n"
   ]
  },
  {
   "cell_type": "code",
   "execution_count": 14,
   "metadata": {},
   "outputs": [
    {
     "data": {
      "text/plain": [
       "<list_reverseiterator at 0x1c43208ab50>"
      ]
     },
     "execution_count": 14,
     "metadata": {},
     "output_type": "execute_result"
    }
   ],
   "source": []
  }
 ],
 "metadata": {
  "kernelspec": {
   "display_name": "Python 3",
   "language": "python",
   "name": "python3"
  },
  "language_info": {
   "codemirror_mode": {
    "name": "ipython",
    "version": 3
   },
   "file_extension": ".py",
   "mimetype": "text/x-python",
   "name": "python",
   "nbconvert_exporter": "python",
   "pygments_lexer": "ipython3",
   "version": "3.8.5"
  }
 },
 "nbformat": 4,
 "nbformat_minor": 4
}
