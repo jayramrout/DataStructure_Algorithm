{
 "cells": [
  {
   "cell_type": "markdown",
   "metadata": {
    "pycharm": {
     "name": "#%% md\n"
    }
   },
   "source": [
    "![Quick Sort](img/quicksort.gif)"
   ]
  },
  {
   "cell_type": "markdown",
   "metadata": {
    "pycharm": {
     "is_executing": false,
     "name": "#%% md\n"
    }
   },
   "source": [
    "#### Quick Sort\n",
    "     Worst case : O(n log n)\n",
    "     Divide and Conquer\n",
    "     in-place and Unstable"
   ]
  },
  {
   "cell_type": "code",
   "execution_count": 37,
   "metadata": {
    "pycharm": {
     "is_executing": false,
     "name": "#%%\n"
    }
   },
   "outputs": [],
   "source": [
    "def partition(array,start,end):\n",
    "    pivot = array[start]\n",
    "    low = start +1\n",
    "    high = end\n",
    "    \n",
    "    while True:\n",
    "        while low <= high and array[high] >= pivot:\n",
    "            high -= 1\n",
    "        while low <=high and array[low] <= pivot:\n",
    "            low += 1\n",
    "        if low <= high:\n",
    "            array[low],array[high] = array[high],array[low]\n",
    "        else:\n",
    "            break\n",
    "    array[start],array[high] = array[high],array[start]\n",
    "    return high\n",
    "\n",
    "def quick_sort(array, start, end):\n",
    "    if start > end:\n",
    "        return\n",
    "    pivotIndex = partition(array,start,end)\n",
    "#     print(f'pivot index ={pivotIndex}')\n",
    "    quick_sort(array,start,pivotIndex-1)\n",
    "    quick_sort(array,pivotIndex+1,end)\n",
    "    "
   ]
  },
  {
   "cell_type": "code",
   "execution_count": 59,
   "metadata": {
    "pycharm": {
     "is_executing": false,
     "name": "#%%\n"
    }
   },
   "outputs": [
    {
     "name": "stdout",
     "output_type": "stream",
     "text": [
      "Before [100, 99, 98, 97, 1000, 10, 9, 8, 7, 6, 5, 4, 3, 2, 1]\n",
      "After [1, 2, 3, 4, 5, 6, 7, 8, 9, 10, 97, 98, 99, 100, 1000]\n",
      "randomArray Before = [-378, -112, -498, -124, -42, -468, -459, -403, -324, 1]\n",
      "randomArray After = [-498, -468, -459, -403, -378, -324, -124, -112, -42, 1]\n"
     ]
    }
   ],
   "source": [
    "intArray = [100,99,98,97,1000,10,9,8,7,6,5,4,3,2,1]\n",
    "print(f'Before {intArray}')\n",
    "quick_sort(intArray,0,len(intArray)-1)\n",
    "print(f'After {intArray}')\n",
    "\n",
    "import random\n",
    "randomArray = random.sample(range(-500,100),10)\n",
    "\n",
    "print(f'randomArray Before = {randomArray}')\n",
    "quick_sort(randomArray,0,len(randomArray)-1)\n",
    "print(f'randomArray After = {randomArray}')"
   ]
  },
  {
   "cell_type": "code",
   "execution_count": null,
   "metadata": {},
   "outputs": [],
   "source": []
  }
 ],
 "metadata": {
  "kernelspec": {
   "display_name": "PyCharm (Python_DataStructure_Algorithm)",
   "language": "python",
   "name": "pycharm-b6543aff"
  },
  "language_info": {
   "codemirror_mode": {
    "name": "ipython",
    "version": 3
   },
   "file_extension": ".py",
   "mimetype": "text/x-python",
   "name": "python",
   "nbconvert_exporter": "python",
   "pygments_lexer": "ipython3",
   "version": "3.8.5"
  },
  "pycharm": {
   "stem_cell": {
    "cell_type": "raw",
    "metadata": {
     "collapsed": false
    },
    "source": []
   }
  }
 },
 "nbformat": 4,
 "nbformat_minor": 4
}
