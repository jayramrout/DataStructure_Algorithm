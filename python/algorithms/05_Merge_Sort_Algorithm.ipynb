{
 "cells": [
  {
   "cell_type": "markdown",
   "metadata": {
    "pycharm": {
     "name": "#%% md\n"
    }
   },
   "source": [
    "![Merge Sort](img/mergesort.png)"
   ]
  },
  {
   "cell_type": "markdown",
   "metadata": {
    "pycharm": {
     "is_executing": false,
     "name": "#%% md\n"
    }
   },
   "source": [
    "#### Merge Sort\n",
    " Not an in-place algorithm\n",
    " Worst case : O(n log n)\n",
    " Stable algorithm"
   ]
  },
  {
   "cell_type": "code",
   "execution_count": 9,
   "metadata": {
    "pycharm": {
     "is_executing": false,
     "name": "#%%\n"
    }
   },
   "outputs": [],
   "source": [
    "def merge_sort(array):\n",
    "    if len(array) > 1:\n",
    "        mid = len(array)//2\n",
    "        L = array[:mid]\n",
    "        R = array[mid:]\n",
    "        merge_sort(L)\n",
    "        merge_sort(R)\n",
    "        merge(array,L,R)\n",
    "        \n",
    "def merge(array,L,R):\n",
    "    i = j = k = 0\n",
    "    while i < len(L) and j < len(R):\n",
    "        if L[i] < R[j]:\n",
    "            array[k] = L[i]\n",
    "            i += 1\n",
    "        else:\n",
    "            array[k] = R[j]\n",
    "            j += 1\n",
    "        k += 1\n",
    "    while i < len(L):\n",
    "        array[k] = L[i]\n",
    "        i += 1\n",
    "        k += 1\n",
    "    while j < len(R):\n",
    "        array[k] = R[j]\n",
    "        j += 1\n",
    "        k += 1"
   ]
  },
  {
   "cell_type": "code",
   "execution_count": 10,
   "metadata": {
    "pycharm": {
     "is_executing": false,
     "name": "#%%\n"
    }
   },
   "outputs": [
    {
     "name": "stdout",
     "output_type": "stream",
     "text": [
      "Before [100, 99, 98, 97, 96, 10, 9, 8, 7, 6, 5, 4, 3, 2, 1]\n",
      "After [1, 2, 3, 4, 5, 6, 7, 8, 9, 10, 96, 97, 98, 99, 100]\n"
     ]
    }
   ],
   "source": [
    "intArray = [100,99,98,97,96,10,9,8,7,6,5,4,3,2,1]\n",
    "print(f'Before {intArray}')\n",
    "merge_sort(intArray)\n",
    "print(f'After {intArray}')"
   ]
  }
 ],
 "metadata": {
  "kernelspec": {
   "display_name": "PyCharm (Python_DataStructure_Algorithm)",
   "language": "python",
   "name": "pycharm-b6543aff"
  },
  "language_info": {
   "codemirror_mode": {
    "name": "ipython",
    "version": 3
   },
   "file_extension": ".py",
   "mimetype": "text/x-python",
   "name": "python",
   "nbconvert_exporter": "python",
   "pygments_lexer": "ipython3",
   "version": "3.8.5"
  },
  "pycharm": {
   "stem_cell": {
    "cell_type": "raw",
    "metadata": {
     "collapsed": false
    },
    "source": []
   }
  }
 },
 "nbformat": 4,
 "nbformat_minor": 4
}
