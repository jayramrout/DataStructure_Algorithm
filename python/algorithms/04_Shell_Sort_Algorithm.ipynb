{
 "cells": [
  {
   "cell_type": "markdown",
   "source": [
    "![Shell Sort](img/shellsort.jpg)"
   ],
   "metadata": {
    "collapsed": false,
    "pycharm": {
     "name": "#%% md\n"
    }
   }
  },
  {
   "cell_type": "markdown",
   "metadata": {
    "pycharm": {
     "is_executing": false,
     "name": "#%% md\n"
    }
   },
   "source": [
    "#### Shell Sort\n",
    " Its a variation of Insertion Sort\n",
    " It uses a gap value\n",
    " https://en.wikipedia.org/wiki/Shellsort\n",
    " Knuth Sequence is the common way of calculating the sequence\n",
    " Worst case : O(n-square)\n",
    " Unstable algorithm"
   ]
  },
  {
   "cell_type": "code",
   "execution_count": 23,
   "outputs": [
    {
     "name": "stdout",
     "text": [
      "Before [100, 99, 98, 97, 96, 10, 9, 8, 7, 6, 5, 4, 3, 2, 1]\n",
      "After [1, 2, 3, 4, 5, 6, 7, 8, 9, 10, 96, 97, 98, 99, 100]\n"
     ],
     "output_type": "stream"
    }
   ],
   "source": [
    "intArray = [100,99,98,97,96,10,9,8,7,6,5,4,3,2,1]\n",
    "print(f'Before {intArray}')\n",
    "gap = len(intArray)//2\n",
    "while gap > 0:\n",
    "    for i in range(gap, len(intArray)):\n",
    "        temp = intArray[i]\n",
    "        j = i\n",
    "        while j >= gap and intArray[j-gap] > temp:\n",
    "            intArray[j] = intArray[j-gap]\n",
    "            j -= gap\n",
    "        intArray[j] = temp\n",
    "    gap //= 2\n",
    "\n",
    "print(f'After {intArray}')"
   ],
   "metadata": {
    "collapsed": false,
    "pycharm": {
     "name": "#%%\n",
     "is_executing": false
    }
   }
  }
 ],
 "metadata": {
  "kernelspec": {
   "name": "pycharm-b6543aff",
   "language": "python",
   "display_name": "PyCharm (Python_DataStructure_Algorithm)"
  },
  "language_info": {
   "codemirror_mode": {
    "name": "ipython",
    "version": 3
   },
   "file_extension": ".py",
   "mimetype": "text/x-python",
   "name": "python",
   "nbconvert_exporter": "python",
   "pygments_lexer": "ipython3",
   "version": "3.8.5"
  },
  "pycharm": {
   "stem_cell": {
    "cell_type": "raw",
    "source": [],
    "metadata": {
     "collapsed": false
    }
   }
  }
 },
 "nbformat": 4,
 "nbformat_minor": 4
}