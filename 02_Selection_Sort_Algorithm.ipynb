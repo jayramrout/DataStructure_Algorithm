{
 "cells": [
  {
   "cell_type": "markdown",
   "metadata": {},
   "source": [
    "![Selection Sort](img/selectionsort.png)"
   ]
  },
  {
   "cell_type": "code",
   "execution_count": 28,
   "metadata": {},
   "outputs": [
    {
     "name": "stdout",
     "output_type": "stream",
     "text": [
      "[-1, 10, 3, 2, 6, 4, 9, 2, -16]\n",
      "[-16, -1, 2, 2, 3, 4, 6, 9, 10]\n"
     ]
    }
   ],
   "source": [
    "# Selection Sort\n",
    "# of the order O(n-Square): Quadratic\n",
    "def selection_sort(array):\n",
    "    array_len = len(array)\n",
    "    for i in reversed(range(array_len)):\n",
    "        largest_index = 0\n",
    "        for j in range(i):\n",
    "            if array[largest_index] < array[j+1]:\n",
    "                largest_index = j+1;\n",
    "        array[largest_index] , array[i] = array[i] ,array[largest_index]\n",
    "\n",
    "ages = [-1,10,3,2,6,4,9,2,-16]\n",
    "print(ages)\n",
    "selection_sort(ages)\n",
    "print(ages)"
   ]
  }
 ],
 "metadata": {
  "kernelspec": {
   "display_name": "Python 3",
   "language": "python",
   "name": "python3"
  },
  "language_info": {
   "codemirror_mode": {
    "name": "ipython",
    "version": 3
   },
   "file_extension": ".py",
   "mimetype": "text/x-python",
   "name": "python",
   "nbconvert_exporter": "python",
   "pygments_lexer": "ipython3",
   "version": "3.8.5"
  }
 },
 "nbformat": 4,
 "nbformat_minor": 4
}
