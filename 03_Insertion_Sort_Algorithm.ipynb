{
 "cells": [
  {
   "cell_type": "markdown",
   "metadata": {},
   "source": [
    "![Insertion Sort](img/insertionsort.png)"
   ]
  },
  {
   "cell_type": "code",
   "execution_count": 54,
   "metadata": {
    "scrolled": true
   },
   "outputs": [
    {
     "name": "stdout",
     "output_type": "stream",
     "text": [
      "[90, 4, 90, 33, -11, 44, 66, 88]\n",
      "[-11, 4, 33, 44, 66, 88, 90, 90]\n"
     ]
    }
   ],
   "source": [
    "def insertion_sort(array):\n",
    "    for firstUnsortedIndex in range(1,len(array)):\n",
    "        newElement = array[firstUnsortedIndex] # 11\n",
    "        i = firstUnsortedIndex # 6\n",
    "        while i > 0 and array[i-1] > newElement:\n",
    "            array[i] = array[i-1]\n",
    "            i = i-1\n",
    "        array[i] = newElement\n",
    "\n",
    "# numbers = [90,4,90,33,-11,44,66,88]\n",
    "numbers = [4,5,6,7,8,9,-11,44,66,88]\n",
    "\n",
    "print(numbers)\n",
    "insertion_sort(numbers)\n",
    "print(numbers)"
   ]
  }
 ],
 "metadata": {
  "kernelspec": {
   "display_name": "Python 3",
   "language": "python",
   "name": "python3"
  },
  "language_info": {
   "codemirror_mode": {
    "name": "ipython",
    "version": 3
   },
   "file_extension": ".py",
   "mimetype": "text/x-python",
   "name": "python",
   "nbconvert_exporter": "python",
   "pygments_lexer": "ipython3",
   "version": "3.8.5"
  }
 },
 "nbformat": 4,
 "nbformat_minor": 4
}
